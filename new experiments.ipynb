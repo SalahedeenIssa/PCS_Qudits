{
 "cells": [
  {
   "cell_type": "code",
   "execution_count": 1,
   "id": "9b9a4798-1cd5-4907-b497-a71ba446f69f",
   "metadata": {},
   "outputs": [],
   "source": [
    "%load_ext autoreload\n",
    "%autoreload 2"
   ]
  },
  {
   "cell_type": "code",
   "execution_count": 2,
   "id": "d9937ed7-1db4-4975-8200-db1d7f0d39b1",
   "metadata": {},
   "outputs": [],
   "source": [
    "import pcs\n",
    "import cirq\n",
    "import qudit_gates as qg\n",
    "import numpy as np"
   ]
  },
  {
   "cell_type": "code",
   "execution_count": 9,
   "id": "3b5f9ad4-5d6d-4c35-a6a5-ca1ae3b00056",
   "metadata": {},
   "outputs": [],
   "source": [
    "qudits = [cirq.LineQid(i, dimension=3) for i in range(2)]"
   ]
  },
  {
   "cell_type": "code",
   "execution_count": 92,
   "id": "f959f469-741d-4a93-aaac-a11546fd2753",
   "metadata": {},
   "outputs": [],
   "source": [
    "ancilla_qubit = cirq.LineQubit(2)\n",
    "\n",
    "error_moment = cirq.Moment(qg.QutritPlusSquaredGate().on(qudits[0]))\n",
    "\n",
    "noisy_circuit_qubit_ancilla = cirq.Circuit(cirq.H(ancilla_qubit), \n",
    "                             qg.QutritZGate().on(qudits[0]).controlled_by(ancilla_qubit),\n",
    "                             error_moment,\n",
    "                             qg.QutritZGate().on(qudits[0]).controlled_by(ancilla_qubit),\n",
    "                             cirq.H(ancilla_qubit), cirq.Moment(cirq.measure(qudits[0]), cirq.measure(ancilla_qubit)))"
   ]
  },
  {
   "cell_type": "code",
   "execution_count": 93,
   "id": "44bac645-752d-45d7-b34d-07100da3e597",
   "metadata": {},
   "outputs": [
    {
     "data": {
      "text/html": [
       "<pre style=\"overflow: auto; white-space: pre;\">0 (d=3): ───────TZ───[++]───TZ───────M───\n",
       "                │           │\n",
       "2: ─────────H───@───────────@────H───M───</pre>"
      ],
      "text/plain": [
       "0 (d=3): ───────TZ───[++]───TZ───────M───\n",
       "                │           │\n",
       "2: ─────────H───@───────────@────H───M───"
      ]
     },
     "execution_count": 93,
     "metadata": {},
     "output_type": "execute_result"
    }
   ],
   "source": [
    "noisy_circuit_qubit_ancilla"
   ]
  },
  {
   "cell_type": "code",
   "execution_count": 94,
   "id": "3a0af488-b443-4024-8e3a-2ed54e560c55",
   "metadata": {},
   "outputs": [
    {
     "data": {
      "text/plain": [
       "Counter({(1, 1): 100000})"
      ]
     },
     "execution_count": 94,
     "metadata": {},
     "output_type": "execute_result"
    }
   ],
   "source": [
    "pcs.simulate_noisy_circuit(noisy_circuit_qubit_ancilla, shots=100000)"
   ]
  },
  {
   "cell_type": "code",
   "execution_count": 114,
   "id": "5c1d45d2-8d7a-4a99-ac40-d36bc9c86dae",
   "metadata": {},
   "outputs": [],
   "source": [
    "z_unitary = cirq.unitary(qg.ErrorZGate())\n",
    "y_unitary = cirq.unitary(qg.ErrorYGate())\n",
    "x_unitary = cirq.unitary(qg.QutritPlusGate())\n",
    "tz_unitary = cirq.unitary(qg.QutritZGate())\n",
    "z_squared_unitary = cirq.unitary(qg.ErrorZ2Gate())\n"
   ]
  },
  {
   "cell_type": "code",
   "execution_count": 115,
   "id": "f9327214-dfa8-4d0f-9938-32000705751c",
   "metadata": {},
   "outputs": [
    {
     "data": {
      "text/plain": [
       "array([[1.+0.00000000e+00j, 0.+0.00000000e+00j, 0.+0.00000000e+00j],\n",
       "       [0.+0.00000000e+00j, 1.-5.25363176e-16j, 0.+0.00000000e+00j],\n",
       "       [0.+0.00000000e+00j, 0.+0.00000000e+00j, 1.-9.09955713e-16j]])"
      ]
     },
     "execution_count": 115,
     "metadata": {},
     "output_type": "execute_result"
    }
   ],
   "source": [
    "z_squared_unitary @ z_unitary"
   ]
  },
  {
   "cell_type": "code",
   "execution_count": 19,
   "id": "ff09238e-bfbf-49f1-ac11-579f09e4e813",
   "metadata": {},
   "outputs": [
    {
     "data": {
      "text/plain": [
       "array([[0, 0, 1],\n",
       "       [1, 0, 0],\n",
       "       [0, 1, 0]])"
      ]
     },
     "execution_count": 19,
     "metadata": {},
     "output_type": "execute_result"
    }
   ],
   "source": [
    "x_unitary"
   ]
  },
  {
   "cell_type": "markdown",
   "id": "37dcf29a-47f3-4ff6-8bba-a84f5a8c8ad3",
   "metadata": {},
   "source": [
    "#TODO: -Why does it still work even when the error does not anticommute? \n",
    "\n",
    "- Location of the non-zero matrix entry. What does that \"correspond to\" ?\n",
    "- Try creating a matrix whose anticommutator is all zeros but with a non-zero matrix entry within the diagonal. Does it still work?\n",
    "- Perhaps see if there's some other type of phase error that you are missing.\n",
    "- Carefully go over literature.\n",
    "- Set up call with Kate. "
   ]
  },
  {
   "cell_type": "code",
   "execution_count": 14,
   "id": "8a2ab584-969f-4dae-90fc-5e7a7055a0a4",
   "metadata": {},
   "outputs": [],
   "source": [
    "qubits = cirq.LineQubit.range(2) \n",
    "\n",
    "# pcs_circuit = cirq.Circuit(cirq.H(qubits[1]), cirq.CX(qubits[1], qubits[0]), cirq.Z(qubits[0]), \n",
    "#                            cirq.CX(qubits[1], qubits[0]), cirq.H(qubits[1]), cirq.measure_each(*qubits))\n",
    "\n",
    "# pcs_circuit"
   ]
  },
  {
   "cell_type": "code",
   "execution_count": 15,
   "id": "5fcef498-e0eb-463f-9e3b-d683439112c7",
   "metadata": {},
   "outputs": [
    {
     "name": "stdout",
     "output_type": "stream",
     "text": [
      "Basis for anticommuting matrices:\n",
      "⎡0  1  0⎤\n",
      "⎢       ⎥\n",
      "⎢0  0  0⎥\n",
      "⎢       ⎥\n",
      "⎣0  0  0⎦\n",
      "⎡0  0  1⎤\n",
      "⎢       ⎥\n",
      "⎢0  0  0⎥\n",
      "⎢       ⎥\n",
      "⎣0  0  0⎦\n",
      "⎡0  0  0⎤\n",
      "⎢       ⎥\n",
      "⎢1  0  0⎥\n",
      "⎢       ⎥\n",
      "⎣0  0  0⎦\n",
      "⎡0  0  0⎤\n",
      "⎢       ⎥\n",
      "⎢0  0  0⎥\n",
      "⎢       ⎥\n",
      "⎣1  0  0⎦\n"
     ]
    }
   ],
   "source": [
    "import sympy as sp\n",
    "\n",
    "def find_anticommuting_matrices(A):\n",
    "    \"\"\"\n",
    "    Finds all matrices X that anticommute with a given matrix A, i.e., AX + XA = 0.\n",
    "\n",
    "    Parameters:\n",
    "        A (sympy.Matrix): The given square matrix.\n",
    "\n",
    "    Returns:\n",
    "        list[sympy.Matrix]: A list of basis matrices for the solution space.\n",
    "    \"\"\"\n",
    "    # Ensure A is a square matrix\n",
    "    n = A.shape[0]\n",
    "    if A.shape[0] != A.shape[1]:\n",
    "        raise ValueError(\"Matrix A must be square.\")\n",
    "\n",
    "    # Define a symbolic n x n matrix X\n",
    "    X = sp.Matrix(sp.MatrixSymbol(\"x\", n, n))\n",
    "\n",
    "    # Define the anticommutation equation: AX + XA = 0\n",
    "    equation = A * X + X * A\n",
    "\n",
    "    # Flatten the equation into a vector of n^2 equations\n",
    "    equations = equation.reshape(n**2, 1)\n",
    "\n",
    "    # Extract individual variables from X\n",
    "    variables = list(X)\n",
    "\n",
    "    # Solve the linear system\n",
    "    solutions = sp.linear_eq_to_matrix(equations, variables)\n",
    "    coeff_matrix, const_vector = solutions\n",
    "    null_space = coeff_matrix.nullspace()\n",
    "\n",
    "    # Convert nullspace vectors into basis matrices\n",
    "    basis_matrices = []\n",
    "    for vec in null_space:\n",
    "        basis_matrix = sp.Matrix(n, n, vec)\n",
    "        basis_matrices.append(basis_matrix)\n",
    "\n",
    "    return basis_matrices\n",
    "\n",
    "# Example usage:\n",
    "A = cirq.unitary(qg.QutritZGate())  # Example 2x2 matrix\n",
    "anticommuting_matrices = find_anticommuting_matrices(A)\n",
    "print(\"Basis for anticommuting matrices:\")\n",
    "for matrix in anticommuting_matrices:\n",
    "    sp.pprint(matrix)"
   ]
  },
  {
   "cell_type": "code",
   "execution_count": 113,
   "id": "6033a287-3182-4c5e-b01a-3c55bec3d3af",
   "metadata": {},
   "outputs": [
    {
     "data": {
      "text/plain": [
       "(0.9999999999999998-4.996003610813204e-16j)"
      ]
     },
     "execution_count": 113,
     "metadata": {},
     "output_type": "execute_result"
    }
   ],
   "source": [
    "omega**(3)"
   ]
  },
  {
   "cell_type": "code",
   "execution_count": 110,
   "id": "17d0be40-a993-4e46-9105-58e6cdfafc16",
   "metadata": {},
   "outputs": [
    {
     "data": {
      "text/plain": [
       "array([[ 1. +0.j       ,  0. +0.j       ,  0. +0.j       ,\n",
       "         0. +0.j       ,  0. +0.j       ,  0. +0.j       ],\n",
       "       [ 0. +0.j       ,  1. +0.j       ,  0. +0.j       ,\n",
       "         0. +0.j       ,  0. +0.j       ,  0. +0.j       ],\n",
       "       [ 0. +0.j       ,  0. +0.j       ,  1. +0.j       ,\n",
       "         0. +0.j       ,  0. +0.j       ,  0. +0.j       ],\n",
       "       [ 0. +0.j       ,  0. +0.j       ,  0. +0.j       ,\n",
       "         1. +0.j       ,  0. +0.j       ,  0. +0.j       ],\n",
       "       [ 0. +0.j       ,  0. +0.j       ,  0. +0.j       ,\n",
       "         0. +0.j       , -0.5-0.8660254j,  0. +0.j       ],\n",
       "       [ 0. +0.j       ,  0. +0.j       ,  0. +0.j       ,\n",
       "         0. +0.j       ,  0. +0.j       , -0.5+0.8660254j]])"
      ]
     },
     "execution_count": 110,
     "metadata": {},
     "output_type": "execute_result"
    }
   ],
   "source": [
    "cirq.unitary(qg.ErrorZ2Gate().on(qudits[0]).controlled_by(ancilla_qubit))"
   ]
  },
  {
   "cell_type": "code",
   "execution_count": null,
   "id": "5480e4b6-9311-4586-a1de-942d34f9930d",
   "metadata": {},
   "outputs": [],
   "source": []
  }
 ],
 "metadata": {
  "kernelspec": {
   "display_name": "Python 3 (ipykernel)",
   "language": "python",
   "name": "python3"
  },
  "language_info": {
   "codemirror_mode": {
    "name": "ipython",
    "version": 3
   },
   "file_extension": ".py",
   "mimetype": "text/x-python",
   "name": "python",
   "nbconvert_exporter": "python",
   "pygments_lexer": "ipython3",
   "version": "3.12.2"
  }
 },
 "nbformat": 4,
 "nbformat_minor": 5
}
