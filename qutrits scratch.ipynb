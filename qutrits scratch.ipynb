{
 "cells": [
  {
   "cell_type": "code",
   "execution_count": 1,
   "id": "f5b93b15-1109-42ac-838a-5e4477b855dc",
   "metadata": {},
   "outputs": [],
   "source": [
    "%load_ext autoreload\n",
    "%autoreload 2"
   ]
  },
  {
   "cell_type": "code",
   "execution_count": 2,
   "id": "4484f644-d34d-4c53-8bd3-92bd8be9fb81",
   "metadata": {},
   "outputs": [],
   "source": [
    "import pcs\n",
    "import cirq\n",
    "import qudit_gates as qg\n",
    "import numpy as np"
   ]
  },
  {
   "cell_type": "code",
   "execution_count": 3,
   "id": "d83d595c-f98f-43c1-9cdf-e715a696e751",
   "metadata": {},
   "outputs": [],
   "source": [
    "qudits = [cirq.LineQid(i, dimension=3) for i in range(2)]\n",
    "\n",
    "ancilla_qubit = cirq.LineQubit(2)\n",
    "\n",
    "error_moment = cirq.Moment(qg.QutritDepolarizingChannel(0.01).on(qudits[1]), qg.QutritDepolarizingChannel(0.01).on(qudits[0]))\n",
    "\n",
    "noisy_circuit_qubit_ancilla = cirq.Circuit(cirq.H(ancilla_qubit), qg.QutritZZGate().on(qudits[0], qudits[1]).controlled_by(ancilla_qubit),\n",
    "                             qg.QutritCZGate().on(qudits[0], qudits[1]), \n",
    "                             error_moment, qg.QutritCZGate().on(qudits[0], qudits[1]),\n",
    "                             error_moment, qg.QutritCZGate().on(qudits[0], qudits[1]), \n",
    "                             error_moment,qg.QutritZZGate().on(qudits[0], qudits[1]).controlled_by(ancilla_qubit), \n",
    "                             cirq.H(ancilla_qubit), cirq.Moment(cirq.measure_each(*qudits), cirq.measure(ancilla_qubit)))"
   ]
  },
  {
   "cell_type": "code",
   "execution_count": 65,
   "id": "7fe09903-3664-4d53-aebb-d07b964ef04d",
   "metadata": {},
   "outputs": [
    {
     "data": {
      "text/html": [
       "<pre style=\"overflow: auto; white-space: pre;\">0 (d=3): ───────#2──────────────────────────────────────────────────TCZ───D3(0.01)───TCZ───D3(0.01)───TCZ───D3(0.01)───#2──────────────────────────────────────────────────────M───\n",
       "                │                                                   │                │                │                │\n",
       "1 (d=3): ───────#3──────────────────────────────────────────────────TCZ───D3(0.01)───TCZ───D3(0.01)───TCZ───D3(0.01)───#3──────────────────────────────────────────────────────M───\n",
       "                │                                                                                                      │\n",
       "2: ─────────H───C&lt;qudit_gates.QutritZZGate object at 0x156307ec0&gt;──────────────────────────────────────────────────────C&lt;qudit_gates.QutritZZGate object at 0x156305be0&gt;───H───M───</pre>"
      ],
      "text/plain": [
       "0 (d=3): ───────#2──────────────────────────────────────────────────TCZ───D3(0.01)───TCZ───D3(0.01)───TCZ───D3(0.01)───#2──────────────────────────────────────────────────────M───\n",
       "                │                                                   │                │                │                │\n",
       "1 (d=3): ───────#3──────────────────────────────────────────────────TCZ───D3(0.01)───TCZ───D3(0.01)───TCZ───D3(0.01)───#3──────────────────────────────────────────────────────M───\n",
       "                │                                                                                                      │\n",
       "2: ─────────H───C<qudit_gates.QutritZZGate object at 0x156307ec0>──────────────────────────────────────────────────────C<qudit_gates.QutritZZGate object at 0x156305be0>───H───M───"
      ]
     },
     "execution_count": 65,
     "metadata": {},
     "output_type": "execute_result"
    }
   ],
   "source": [
    "noisy_circuit_qubit_ancilla"
   ]
  },
  {
   "cell_type": "code",
   "execution_count": 66,
   "id": "25812d1d-f211-41d3-9875-8a88bc47eefe",
   "metadata": {},
   "outputs": [
    {
     "data": {
      "text/plain": [
       "Counter({(0, 0, 0): 95614, (0, 1, 1): 2220, (1, 0, 1): 2110, (1, 1, 0): 56})"
      ]
     },
     "execution_count": 66,
     "metadata": {},
     "output_type": "execute_result"
    }
   ],
   "source": [
    "pcs.simulate_noisy_circuit(noisy_circuit_qubit_ancilla, shots=100000)"
   ]
  },
  {
   "cell_type": "code",
   "execution_count": 31,
   "id": "b2c9afa9-e4d5-4a9f-9a91-9f24c92965f0",
   "metadata": {},
   "outputs": [],
   "source": [
    "qudits = [cirq.LineQid(i, dimension=3) for i in range(2)]\n",
    "error_moment = cirq.Moment(qg.QutritDepolarizingChannel(0.01).on(qudits[1]))\n",
    "\n",
    "noisy_circuit_qutrit_ancilla = cirq.Circuit(qg.QutritChrestensonGate().on(qudits[1]), \n",
    "                             qg.QutritZGate().on(qudits[0]).controlled_by(qudits[1]),\n",
    "                             qg.QutritPlusGate().on(qudits[0]),qg.QutritPlusGate().on(qudits[0]).controlled_by(qudits[1]), \n",
    "                             qg.QutritChrestensonGate().on(qudits[1]), cirq.Moment(cirq.measure_each(*qudits)))"
   ]
  },
  {
   "cell_type": "code",
   "execution_count": 55,
   "id": "b2755be2-f2d8-4768-9a07-05d7cc267f3b",
   "metadata": {},
   "outputs": [],
   "source": [
    "noisy_circuit_qubit_ancilla = cirq.Circuit(cirq.H(ancilla_qubit), qg.ErrorZGate().on(qudits[0]).controlled_by(ancilla_qubit),\n",
    "                             qg.QutritPlusGate().on(qudits[0]),qg.ErrorZ2Gate().on(qudits[0]).controlled_by(ancilla_qubit), cirq.H(ancilla_qubit),\n",
    "                            cirq.Moment(cirq.measure_each(qudits[0], ancilla_qubit)))"
   ]
  },
  {
   "cell_type": "code",
   "execution_count": 56,
   "id": "530c2ae8-d4e7-4c00-8b5a-271861472b94",
   "metadata": {},
   "outputs": [
    {
     "data": {
      "text/html": [
       "<pre style=\"overflow: auto; white-space: pre;\">0 (d=3): ───────#2────────────────────────────────────────────────[+]───#2─────────────────────────────────────────────────────M───\n",
       "                │                                                       │\n",
       "2: ─────────H───C&lt;qudit_gates.ErrorZGate object at 0x153d8e8a0&gt;─────────C&lt;qudit_gates.ErrorZ2Gate object at 0x154aaf3e0&gt;───H───M───</pre>"
      ],
      "text/plain": [
       "0 (d=3): ───────#2────────────────────────────────────────────────[+]───#2─────────────────────────────────────────────────────M───\n",
       "                │                                                       │\n",
       "2: ─────────H───C<qudit_gates.ErrorZGate object at 0x153d8e8a0>─────────C<qudit_gates.ErrorZ2Gate object at 0x154aaf3e0>───H───M───"
      ]
     },
     "execution_count": 56,
     "metadata": {},
     "output_type": "execute_result"
    }
   ],
   "source": [
    "noisy_circuit_qubit_ancilla"
   ]
  },
  {
   "cell_type": "code",
   "execution_count": 57,
   "id": "e62a96ed-95db-4510-8742-ec0e9edb1b41",
   "metadata": {},
   "outputs": [
    {
     "data": {
      "text/plain": [
       "Counter({(1, 1): 75082, (1, 0): 24918})"
      ]
     },
     "execution_count": 57,
     "metadata": {},
     "output_type": "execute_result"
    }
   ],
   "source": [
    "pcs.simulate_noisy_circuit(noisy_circuit_qubit_ancilla, shots=100000)"
   ]
  },
  {
   "cell_type": "code",
   "execution_count": 41,
   "id": "174187cc-366f-46e1-8027-ac08204a3723",
   "metadata": {},
   "outputs": [
    {
     "name": "stdout",
     "output_type": "stream",
     "text": [
      "0 (d=3): ────────#2──────────────────────────────────────────────────D3(0.01)───I3───D3(0.01)───I3───D3(0.01)───I3───#2───────────────────────────────────────────────────────M───\n",
      "                 │                                                                                                   │\n",
      "1 (d=3): ────────#3──────────────────────────────────────────────────D3(0.01)───I3───D3(0.01)───I3───D3(0.01)───I3───#3───────────────────────────────────────────────────────M───\n",
      "                 │                                                                                                   │\n",
      "2 (d=3): ───C3───C<qudit_gates.QutritZZGate object at 0x1561e3e90>───I3─────────I3───I3──────────────────────────────C<qudit_gates.QutritZZGate object at 0x1561e3c80>───C3───M───\n"
     ]
    }
   ],
   "source": [
    "qudits = [cirq.LineQid(i, dimension=3) for i in range(3)]\n",
    "error_moment = cirq.Moment(qg.QutritDepolarizingChannel(0.01).on(qudits[0]), qg.QutritDepolarizingChannel(0.01).on(qudits[1]))\n",
    "\n",
    "\n",
    "\n",
    "identity_qutrit_circuit = cirq.Circuit(\n",
    "                            qg.QutritChrestensonGate().on(qudits[2]),\n",
    "                            qg.QutritZZGate().on(qudits[0], qudits[1]).controlled_by(qudits[2]), \n",
    "                            error_moment, qg.QutritIdentityGate().on_each(*qudits), \n",
    "                            error_moment, qg.QutritIdentityGate().on_each(*qudits),\n",
    "                            error_moment, qg.QutritIdentityGate().on_each(*qudits),\n",
    "                            qg.QutritZZGate().on(qudits[0], qudits[1]).controlled_by(qudits[2]), \n",
    "                            qg.QutritChrestensonGate().on(qudits[2]), cirq.Moment(cirq.measure_each(*qudits)))\n",
    "\n",
    "\n",
    "print(identity_qutrit_circuit)\n",
    "                            \n",
    "                            "
   ]
  },
  {
   "cell_type": "code",
   "execution_count": 42,
   "id": "28558c32-495f-4dfc-bd95-7498fc393205",
   "metadata": {},
   "outputs": [
    {
     "data": {
      "text/plain": [
       "Counter({(0, 0, 0): 95650,\n",
       "         (1, 1, 0): 1940,\n",
       "         (1, 0, 1): 1880,\n",
       "         (0, 1, 0): 255,\n",
       "         (0, 0, 1): 238,\n",
       "         (0, 1, 1): 37})"
      ]
     },
     "execution_count": 42,
     "metadata": {},
     "output_type": "execute_result"
    }
   ],
   "source": [
    "pcs.simulate_noisy_circuit(identity_qutrit_circuit, shots=100000)"
   ]
  },
  {
   "cell_type": "code",
   "execution_count": 27,
   "id": "43f92334-7784-4c6b-877f-6f0a6096970b",
   "metadata": {},
   "outputs": [],
   "source": [
    "qudits = [cirq.LineQid(i, dimension=3) for i in range(2)]\n",
    "\n",
    "ancilla_ququart = cirq.LineQid(2, dimension=4)\n",
    "\n",
    "error_moment = cirq.Moment(qg.QutritDepolarizingChannel(0.01).on(qudits[1]), qg.QutritDepolarizingChannel(0.01).on(qudits[0]))\n",
    "\n",
    "noisy_circuit_ququart_ancilla = cirq.Circuit(qg.QuquartChrestensonGate().on(ancilla_ququart), \n",
    "                             qg.QutritZZGate().on(qudits[0], qudits[1]).controlled_by(ancilla_ququart),\n",
    "                             qg.QutritCZGate().on(qudits[0], qudits[1]), \n",
    "                             error_moment, qg.QutritCZGate().on(qudits[0], qudits[1]),\n",
    "                             error_moment, qg.QutritCZGate().on(qudits[0], qudits[1]), \n",
    "                             error_moment, qg.QutritZZGate().on(qudits[0], qudits[1]).controlled_by(ancilla_ququart), \n",
    "                             qg.QuquartChrestensonGate().on(ancilla_ququart), \n",
    "                             cirq.Moment(cirq.measure_each(*qudits), cirq.measure(ancilla_ququart)))"
   ]
  },
  {
   "cell_type": "code",
   "execution_count": 28,
   "id": "dc8213df-d02e-4033-bfcc-4556f8d95623",
   "metadata": {},
   "outputs": [
    {
     "data": {
      "text/html": [
       "<pre style=\"overflow: auto; white-space: pre;\">0 (d=3): ────────#2──────────────────────────────────────────────────TCZ───D3(0.01)───TCZ───D3(0.01)───TCZ───D3(0.01)───#2───────────────────────────────────────────────────────M───\n",
       "                 │                                                   │                │                │                │\n",
       "1 (d=3): ────────#3──────────────────────────────────────────────────TCZ───D3(0.01)───TCZ───D3(0.01)───TCZ───D3(0.01)───#3───────────────────────────────────────────────────────M───\n",
       "                 │                                                                                                      │\n",
       "2 (d=4): ───C4───C&lt;qudit_gates.QutritZZGate object at 0x1560a9af0&gt;──────────────────────────────────────────────────────C&lt;qudit_gates.QutritZZGate object at 0x1560a95b0&gt;───C4───M───</pre>"
      ],
      "text/plain": [
       "0 (d=3): ────────#2──────────────────────────────────────────────────TCZ───D3(0.01)───TCZ───D3(0.01)───TCZ───D3(0.01)───#2───────────────────────────────────────────────────────M───\n",
       "                 │                                                   │                │                │                │\n",
       "1 (d=3): ────────#3──────────────────────────────────────────────────TCZ───D3(0.01)───TCZ───D3(0.01)───TCZ───D3(0.01)───#3───────────────────────────────────────────────────────M───\n",
       "                 │                                                                                                      │\n",
       "2 (d=4): ───C4───C<qudit_gates.QutritZZGate object at 0x1560a9af0>──────────────────────────────────────────────────────C<qudit_gates.QutritZZGate object at 0x1560a95b0>───C4───M───"
      ]
     },
     "execution_count": 28,
     "metadata": {},
     "output_type": "execute_result"
    }
   ],
   "source": [
    "noisy_circuit_ququart_ancilla"
   ]
  },
  {
   "cell_type": "code",
   "execution_count": 29,
   "id": "e0e7d60e-582c-40cf-8166-6cd5d0dfec5b",
   "metadata": {},
   "outputs": [
    {
     "data": {
      "text/plain": [
       "Counter({(0, 0, 0): 95575,\n",
       "         (1, 1, 0): 1672,\n",
       "         (1, 0, 1): 1614,\n",
       "         (0, 1, 0): 579,\n",
       "         (0, 0, 1): 520,\n",
       "         (0, 1, 1): 40})"
      ]
     },
     "execution_count": 29,
     "metadata": {},
     "output_type": "execute_result"
    }
   ],
   "source": [
    "pcs.simulate_noisy_circuit(noisy_circuit_ququart_ancilla, shots=100000)"
   ]
  },
  {
   "cell_type": "code",
   "execution_count": null,
   "id": "b3483a7c-6ce5-47bc-825c-db78b4d81f89",
   "metadata": {},
   "outputs": [],
   "source": [
    "qubits = cirq.LineQubit.range(2)\n",
    "ancilla_qudit = cirq.LineQid(2, dimension=3)\n",
    "\n",
    "circuit = cirq.Circuit(\n",
    "            qg.QutritChrestensonGate().on(ancilla_qudit), cirq.PauliString(cirq.Z(qubits[0]), \n",
    "            cirq.Z(qubits[1])).controlled_by(ancilla_qudit),\n",
    "            cirq.CZ(qubits[0], qubits[1]), cirq.CZ(qubits[0], qubits[1]), \n",
    "            cirq.CZ(qubits[0], qubits[1]), \n",
    "            cirq.PauliString(cirq.Z(qubits[0]), cirq.Z(qubits[1])).controlled_by(ancilla_qudit), \n",
    "            qg.QutritChrestensonGate().on(ancilla_qudit), cirq.Moment(cirq.measure_each(*qubits), cirq.measure(ancilla_qudit)))\n",
    "\n",
    "circuit"
   ]
  },
  {
   "cell_type": "code",
   "execution_count": null,
   "id": "55c5a98d-a063-4e58-877d-b138390d28ae",
   "metadata": {},
   "outputs": [],
   "source": [
    "noisy_circuit = pcs.create_noisy_circuit(circuit, noisy_qubits=[qubits[1]])"
   ]
  },
  {
   "cell_type": "code",
   "execution_count": null,
   "id": "275ba338-6c4f-49a3-a65a-580aeb591edc",
   "metadata": {},
   "outputs": [],
   "source": [
    "pcs.simulate_noisy_circuit(noisy_circuit, shots = 100000)"
   ]
  },
  {
   "cell_type": "code",
   "execution_count": null,
   "id": "86df76be-cce1-44ac-a3cd-037024a63639",
   "metadata": {},
   "outputs": [],
   "source": []
  },
  {
   "cell_type": "code",
   "execution_count": 30,
   "id": "532790f1-ba46-45ea-abcc-bc0e90b628a0",
   "metadata": {},
   "outputs": [],
   "source": [
    "qubits = cirq.LineQubit.range(2)\n",
    "ancilla_ququart = cirq.LineQid(2, dimension=4)\n",
    "\n",
    "circuit = cirq.Circuit(\n",
    "            qg.QuquartChrestensonGate().on(ancilla_ququart), cirq.PauliString(cirq.Z(qubits[0]), \n",
    "            cirq.Z(qubits[1])).controlled_by(ancilla_ququart),\n",
    "            cirq.CZ(qubits[0], qubits[1]), cirq.CZ(qubits[0], qubits[1]), \n",
    "            cirq.CZ(qubits[0], qubits[1]), \n",
    "            cirq.PauliString(cirq.Z(qubits[0]), cirq.Z(qubits[1])).controlled_by(ancilla_ququart), \n",
    "            qg.QuquartChrestensonGate().on(ancilla_ququart), cirq.Moment(cirq.measure_each(*qubits), cirq.measure(ancilla_ququart)))"
   ]
  },
  {
   "cell_type": "code",
   "execution_count": 31,
   "id": "34f8500d-db79-4c12-8b0b-868879caca35",
   "metadata": {},
   "outputs": [
    {
     "data": {
      "text/html": [
       "<pre style=\"overflow: auto; white-space: pre;\">0: ──────────────PauliString(+Z)───@───@───@───PauliString(+Z)────────M───\n",
       "                 │                 │   │   │   │\n",
       "1: ──────────────Z─────────────────@───@───@───Z──────────────────────M───\n",
       "                 │                             │\n",
       "2 (d=4): ───C4───@─────────────────────────────@─────────────────C4───M───</pre>"
      ],
      "text/plain": [
       "0: ──────────────PauliString(+Z)───@───@───@───PauliString(+Z)────────M───\n",
       "                 │                 │   │   │   │\n",
       "1: ──────────────Z─────────────────@───@───@───Z──────────────────────M───\n",
       "                 │                             │\n",
       "2 (d=4): ───C4───@─────────────────────────────@─────────────────C4───M───"
      ]
     },
     "execution_count": 31,
     "metadata": {},
     "output_type": "execute_result"
    }
   ],
   "source": [
    "circuit"
   ]
  },
  {
   "cell_type": "code",
   "execution_count": 36,
   "id": "29d3b003-5361-4da0-9ae7-18a5777a8935",
   "metadata": {},
   "outputs": [],
   "source": [
    "noisy_circuit = pcs.create_noisy_circuit(circuit, noisy_qubits=[qubits[0], qubits[1]])"
   ]
  },
  {
   "cell_type": "code",
   "execution_count": 37,
   "id": "d9f7a049-3bdd-4671-bb4a-38868ca3fbfc",
   "metadata": {},
   "outputs": [
    {
     "data": {
      "text/plain": [
       "Counter({(0, 0, 0): 96026,\n",
       "         (1, 0, 1): 1497,\n",
       "         (1, 1, 0): 1431,\n",
       "         (0, 0, 1): 508,\n",
       "         (0, 1, 0): 501,\n",
       "         (0, 1, 1): 37})"
      ]
     },
     "execution_count": 37,
     "metadata": {},
     "output_type": "execute_result"
    }
   ],
   "source": [
    "pcs.simulate_noisy_circuit(noisy_circuit, shots = 100000)"
   ]
  },
  {
   "cell_type": "code",
   "execution_count": 59,
   "id": "014cd39e-3149-4d49-9ee1-2109d66bac0b",
   "metadata": {},
   "outputs": [],
   "source": [
    "qudits = [cirq.LineQid(i, dimension=3) for i in range(2)]\n",
    "error_moment = cirq.Moment(qg.QutritDepolarizingChannel(0.1).on(qudits[0]))\n",
    "\n",
    "noisy_circuit_qutrit_ancilla = cirq.Circuit(qg.QutritChrestensonGate().on(qudits[1]), \n",
    "                             qg.QutritCZGate().on(qudits[1], qudits[0]),\n",
    "                             qg.QutritIdentityGate().on(qudits[0]), \n",
    "                             error_moment, qg.QutritCZGate().on(qudits[1], qudits[0]), \n",
    "                             qg.QutritChrestensonGate().on(qudits[1]))"
   ]
  },
  {
   "cell_type": "code",
   "execution_count": 37,
   "id": "9f9aa4f9-7b0b-48dc-aff6-c528378227df",
   "metadata": {},
   "outputs": [
    {
     "data": {
      "text/html": [
       "<pre style=\"overflow: auto; white-space: pre;\">0 (d=3): ────────TCZ───I3───D3(0.1)───TCZ────────M───\n",
       "                 │                    │\n",
       "1 (d=3): ───C3───TCZ──────────────────TCZ───C3───M───</pre>"
      ],
      "text/plain": [
       "0 (d=3): ────────TCZ───I3───D3(0.1)───TCZ────────M───\n",
       "                 │                    │\n",
       "1 (d=3): ───C3───TCZ──────────────────TCZ───C3───M───"
      ]
     },
     "execution_count": 37,
     "metadata": {},
     "output_type": "execute_result"
    }
   ],
   "source": [
    "noisy_circuit_qutrit_ancilla"
   ]
  },
  {
   "cell_type": "code",
   "execution_count": null,
   "id": "d7dd2619-72df-4366-8e66-84719e6ea82e",
   "metadata": {},
   "outputs": [],
   "source": []
  },
  {
   "cell_type": "code",
   "execution_count": null,
   "id": "2cdb26b4-d138-4216-bbc8-0795082338db",
   "metadata": {},
   "outputs": [],
   "source": []
  },
  {
   "cell_type": "code",
   "execution_count": 38,
   "id": "5c64f15d-cca7-4aba-bc6e-c378f1d26e5e",
   "metadata": {},
   "outputs": [
    {
     "data": {
      "text/plain": [
       "Counter({(0, 0): 92578, (1, 1): 6588, (1, 0): 834})"
      ]
     },
     "execution_count": 38,
     "metadata": {},
     "output_type": "execute_result"
    }
   ],
   "source": [
    "pcs.simulate_noisy_circuit(noisy_circuit_qutrit_ancilla, shots = 100000)"
   ]
  },
  {
   "cell_type": "code",
   "execution_count": 17,
   "id": "cc16b51f-8dbf-43b4-aabd-66a9ee4f7d02",
   "metadata": {},
   "outputs": [
    {
     "data": {
      "text/plain": [
       "array([[ 1,  0,  0,  0,  0,  0,  0,  0,  0],\n",
       "       [ 0,  1,  0,  0,  0,  0,  0,  0,  0],\n",
       "       [ 0,  0,  1,  0,  0,  0,  0,  0,  0],\n",
       "       [ 0,  0,  0,  1,  0,  0,  0,  0,  0],\n",
       "       [ 0,  0,  0,  0, -1,  0,  0,  0,  0],\n",
       "       [ 0,  0,  0,  0,  0, -1,  0,  0,  0],\n",
       "       [ 0,  0,  0,  0,  0,  0,  1,  0,  0],\n",
       "       [ 0,  0,  0,  0,  0,  0,  0,  1,  0],\n",
       "       [ 0,  0,  0,  0,  0,  0,  0,  0,  1]])"
      ]
     },
     "execution_count": 17,
     "metadata": {},
     "output_type": "execute_result"
    }
   ],
   "source": [
    "qg.QutritZGate().on(qudits[0]).controlled_by(qudits[1]).gate._unitary_()"
   ]
  },
  {
   "cell_type": "code",
   "execution_count": 43,
   "id": "8a3ded11-95d8-47c4-9110-7b6857c142c9",
   "metadata": {},
   "outputs": [
    {
     "data": {
      "text/plain": [
       "cirq.value.abc_alt.ABCMetaImplementAnyOneOf"
      ]
     },
     "execution_count": 43,
     "metadata": {},
     "output_type": "execute_result"
    }
   ],
   "source": [
    "type(qg.QutritDepolarizingChannel)"
   ]
  },
  {
   "cell_type": "code",
   "execution_count": 38,
   "id": "66c1492b-1136-451c-8037-cc6c55b7f831",
   "metadata": {},
   "outputs": [],
   "source": [
    "omega = np.exp(1j * 2 / 3 * np.pi)"
   ]
  },
  {
   "cell_type": "code",
   "execution_count": 22,
   "id": "e670c902-eeb4-44de-963c-0a74fe59f575",
   "metadata": {},
   "outputs": [],
   "source": [
    "chrestenson = (1/np.sqrt(3))*np.array([[1, 1, 1],\n",
    "            [1, omega, omega**2],\n",
    "            [1, omega**2, omega**4]])"
   ]
  },
  {
   "cell_type": "code",
   "execution_count": 43,
   "id": "ba4ca988-1609-4745-8aa1-11ebe50d565e",
   "metadata": {},
   "outputs": [],
   "source": [
    "state_vector = (1/np.sqrt(3))*np.array([1,-1,1])"
   ]
  },
  {
   "cell_type": "code",
   "execution_count": 69,
   "id": "53dc6eda-8dfa-4673-97a2-eb7721964a8f",
   "metadata": {},
   "outputs": [
    {
     "data": {
      "text/plain": [
       "array([1.+0.j        , 1.-1.73205081j, 1.+1.73205081j])"
      ]
     },
     "execution_count": 69,
     "metadata": {},
     "output_type": "execute_result"
    }
   ],
   "source": [
    "chrestenson @ state_vector / (1/(3))"
   ]
  },
  {
   "cell_type": "code",
   "execution_count": 54,
   "id": "8b514817-46be-4321-87fe-100130a31655",
   "metadata": {},
   "outputs": [
    {
     "data": {
      "text/plain": [
       "array([[ 0.57735027+0.j ,  0.57735027+0.j ,  0.57735027+0.j ],\n",
       "       [ 0.57735027+0.j , -0.28867513+0.5j, -0.28867513-0.5j],\n",
       "       [ 0.57735027+0.j , -0.28867513-0.5j, -0.28867513+0.5j]])"
      ]
     },
     "execution_count": 54,
     "metadata": {},
     "output_type": "execute_result"
    }
   ],
   "source": [
    "chrestenson"
   ]
  },
  {
   "cell_type": "code",
   "execution_count": 35,
   "id": "d487a7eb-d86e-45b9-8ff9-9e4f825ff331",
   "metadata": {},
   "outputs": [],
   "source": [
    "alpha = 0.5*np.sqrt(2)"
   ]
  },
  {
   "cell_type": "code",
   "execution_count": 36,
   "id": "01403acd-24a7-4777-a234-33e15d538524",
   "metadata": {},
   "outputs": [],
   "source": [
    "matrix = np.array([[0,alpha, alpha],\n",
    "          [alpha, -alpha, 0],\n",
    "          [alpha, 0, -alpha]])"
   ]
  },
  {
   "cell_type": "code",
   "execution_count": 32,
   "id": "bbce179e-4ebf-4451-8fd9-e94c09e57b76",
   "metadata": {},
   "outputs": [
    {
     "data": {
      "text/plain": [
       "array([[ 0.       ,  0.8660254,  0.8660254],\n",
       "       [ 0.8660254, -0.8660254,  0.       ],\n",
       "       [ 0.8660254,  0.       , -0.8660254]])"
      ]
     },
     "execution_count": 32,
     "metadata": {},
     "output_type": "execute_result"
    }
   ],
   "source": [
    "np.transpose(matrix)"
   ]
  },
  {
   "cell_type": "code",
   "execution_count": 33,
   "id": "1c6c3604-1b99-4dc0-a731-2508535c9c27",
   "metadata": {},
   "outputs": [],
   "source": []
  },
  {
   "cell_type": "code",
   "execution_count": 37,
   "id": "30ba2832-4d66-4202-9122-b507fcd2bbe8",
   "metadata": {},
   "outputs": [
    {
     "data": {
      "text/plain": [
       "array([[ 1. , -0.5, -0.5],\n",
       "       [-0.5,  1. ,  0.5],\n",
       "       [-0.5,  0.5,  1. ]])"
      ]
     },
     "execution_count": 37,
     "metadata": {},
     "output_type": "execute_result"
    }
   ],
   "source": [
    "np.transpose(matrix) @ matrix"
   ]
  },
  {
   "cell_type": "code",
   "execution_count": null,
   "id": "2813ca2a-43d9-4518-ad5a-7ae9d47012bf",
   "metadata": {},
   "outputs": [],
   "source": []
  },
  {
   "cell_type": "code",
   "execution_count": 56,
   "id": "9387e65a-3627-4d6d-8f66-dfe729790c19",
   "metadata": {},
   "outputs": [
    {
     "data": {
      "text/plain": [
       "array([-7.11453991e-18+1.19609907e-16j,  1.66533454e-16+1.06728500e-16j,\n",
       "        1.00000000e+00-3.37360710e-16j])"
      ]
     },
     "execution_count": 56,
     "metadata": {},
     "output_type": "execute_result"
    }
   ],
   "source": [
    "c1 = 1/np.sqrt(3) * np.array([[1, 1, 1],\n",
    "                             [1, omega, omega**2],\n",
    "                             [1, omega**2, omega]])\n",
    "\n",
    "vector3 = 1/np.sqrt(3) * np.array([1, omega, omega**2])\n",
    "\n",
    "c1 @ vector3"
   ]
  },
  {
   "cell_type": "code",
   "execution_count": 53,
   "id": "44a23199-3479-4cdf-b360-7f54a19fcc48",
   "metadata": {},
   "outputs": [],
   "source": [
    "c4 = 0.5 * np.array(\n",
    "            [[1, 1, 1, 1],\n",
    "            [1, 1j, -1, -1j],\n",
    "            [1, -1, 1, -1],\n",
    "            [1, -1j, -1, 1j],\n",
    "        ])\n",
    "\n",
    "\n",
    "vector4 = 0.5 * np.array([1,-1j,-1,1j])"
   ]
  },
  {
   "cell_type": "code",
   "execution_count": 54,
   "id": "ec81af66-39d9-489d-91a7-f381e2cdb2b4",
   "metadata": {},
   "outputs": [
    {
     "data": {
      "text/plain": [
       "array([0.+0.j, 1.+0.j, 0.+0.j, 0.+0.j])"
      ]
     },
     "execution_count": 54,
     "metadata": {},
     "output_type": "execute_result"
    }
   ],
   "source": [
    "c4  @ vector4"
   ]
  },
  {
   "cell_type": "code",
   "execution_count": null,
   "id": "0e656d75-3023-4eb7-a67d-21c78041bb65",
   "metadata": {},
   "outputs": [],
   "source": []
  }
 ],
 "metadata": {
  "kernelspec": {
   "display_name": "Python 3 (ipykernel)",
   "language": "python",
   "name": "python3"
  },
  "language_info": {
   "codemirror_mode": {
    "name": "ipython",
    "version": 3
   },
   "file_extension": ".py",
   "mimetype": "text/x-python",
   "name": "python",
   "nbconvert_exporter": "python",
   "pygments_lexer": "ipython3",
   "version": "3.12.2"
  }
 },
 "nbformat": 4,
 "nbformat_minor": 5
}
